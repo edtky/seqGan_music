{
 "cells": [
  {
   "cell_type": "code",
   "execution_count": 4,
   "metadata": {},
   "outputs": [],
   "source": [
    "import glob, os\n",
    "import decoder"
   ]
  },
  {
   "cell_type": "code",
   "execution_count": 5,
   "metadata": {},
   "outputs": [
    {
     "name": "stdout",
     "output_type": "stream",
     "text": [
      "Done! Decoded midi file saved to '/data/midi_output/'\n",
      "Done! Decoded midi file saved to '/data/midi_output/'\n",
      "Done! Decoded midi file saved to '/data/midi_output/'\n",
      "Done! Decoded midi file saved to '/data/midi_output/'\n",
      "Done! Decoded midi file saved to '/data/midi_output/'\n",
      "Done! Decoded midi file saved to '/data/midi_output/'\n",
      "Done! Decoded midi file saved to '/data/midi_output/'\n",
      "Done! Decoded midi file saved to '/data/midi_output/'\n",
      "Done! Decoded midi file saved to '/data/midi_output/'\n",
      "Done! Decoded midi file saved to '/data/midi_output/'\n",
      "Done! Decoded midi file saved to '/data/midi_output/'\n",
      "Done! Decoded midi file saved to '/data/midi_output/'\n",
      "Done! Decoded midi file saved to '/data/midi_output/'\n",
      "Done! Decoded midi file saved to '/data/midi_output/'\n",
      "Done! Decoded midi file saved to '/data/midi_output/'\n",
      "Done! Decoded midi file saved to '/data/midi_output/'\n",
      "Done! Decoded midi file saved to '/data/midi_output/'\n",
      "Done! Decoded midi file saved to '/data/midi_output/'\n",
      "Done! Decoded midi file saved to '/data/midi_output/'\n",
      "Done! Decoded midi file saved to '/data/midi_output/'\n",
      "Done! Decoded midi file saved to '/data/midi_output/'\n",
      "Done! Decoded midi file saved to '/data/midi_output/'\n",
      "Done! Decoded midi file saved to '/data/midi_output/'\n",
      "Done! Decoded midi file saved to '/data/midi_output/'\n"
     ]
    }
   ],
   "source": [
    "output_dir = 'data/output/*.txt'\n",
    "\n",
    "for file in glob.glob(output_dir):\n",
    "    decoder.txt_to_midi(file)"
   ]
  },
  {
   "cell_type": "code",
   "execution_count": 6,
   "metadata": {},
   "outputs": [],
   "source": [
    "import os\n",
    "import zipfile\n",
    "\n",
    "zf = zipfile.ZipFile(\"data/seqgan_midi_ouput.zip\", \"w\")\n",
    "\n",
    "for dirname, subdirs, files in os.walk(\"data/midi_output\"):\n",
    "    zf.write(dirname)\n",
    "    for filename in files:\n",
    "        zf.write(os.path.join(dirname, filename))\n",
    "zf.close()"
   ]
  },
  {
   "cell_type": "code",
   "execution_count": null,
   "metadata": {},
   "outputs": [],
   "source": []
  }
 ],
 "metadata": {
  "kernelspec": {
   "display_name": "Python 3",
   "language": "python",
   "name": "python3"
  },
  "language_info": {
   "codemirror_mode": {
    "name": "ipython",
    "version": 3
   },
   "file_extension": ".py",
   "mimetype": "text/x-python",
   "name": "python",
   "nbconvert_exporter": "python",
   "pygments_lexer": "ipython3",
   "version": "3.6.3"
  }
 },
 "nbformat": 4,
 "nbformat_minor": 2
}
