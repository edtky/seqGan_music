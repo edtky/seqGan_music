{
 "cells": [
  {
   "cell_type": "markdown",
   "metadata": {},
   "source": [
    "# Learnings\n",
    "\n",
    "1. Increase sequence length to have greater understanding of long term patterns in music\n",
    "2. Increase batch size to leverage on GPU\n",
    "\n",
    "Goal is to achieve validation accuracy of about 50%"
   ]
  },
  {
   "cell_type": "code",
   "execution_count": 1,
   "metadata": {},
   "outputs": [],
   "source": [
    "from __future__ import print_function\n",
    "from math import ceil\n",
    "import numpy as np\n",
    "import sys\n",
    "import pdb\n",
    "\n",
    "import torch\n",
    "import torch.optim as optim\n",
    "import torch.nn as nn\n",
    "\n",
    "import generator\n",
    "import discriminator\n",
    "import helpers\n",
    "\n",
    "import random"
   ]
  },
  {
   "cell_type": "markdown",
   "metadata": {},
   "source": [
    "# Define Hyperparameters"
   ]
  },
  {
   "cell_type": "code",
   "execution_count": 2,
   "metadata": {},
   "outputs": [],
   "source": [
    "CUDA = False\n",
    "\n",
    "MAX_SEQ_LEN = 256          # try longer\n",
    "POS_NEG_SAMPLES = 40000   # try max of 500000\n",
    "# VOCAB_SIZE = 5000\n",
    "\n",
    "START_LETTER = 0\n",
    "BATCH_SIZE = 128\n",
    "\n",
    "GEN_EMBEDDING_DIM = 32\n",
    "GEN_HIDDEN_DIM = 32\n",
    "DIS_EMBEDDING_DIM = 64\n",
    "DIS_HIDDEN_DIM = 64\n",
    "\n",
    "MLE_TRAIN_EPOCHS = 50    # original: 100, run01: 20, run02: 50\n",
    "ADV_TRAIN_EPOCHS = 30    # original: 50 \n",
    "\n",
    "DIS_D_STEPS = 3          # original: 50, run01: 5, run02: 3\n",
    "ADV_D_STEPS = 3          # original: 5\n",
    "DIS_EPOCH = 3            # original: 3\n",
    "\n",
    "N_SAMPLES = 3\n",
    "\n",
    "# use the following settings for rapid dev and testing\n",
    "# POS_NEG_SAMPLES = 1000\n",
    "# MLE_TRAIN_EPOCHS = 1\n",
    "# ADV_TRAIN_EPOCHS = 1\n",
    "# DIS_D_STEPS = 1\n",
    "# ADV_D_STEPS = 1\n",
    "# DIS_EPOCH = 1"
   ]
  },
  {
   "cell_type": "markdown",
   "metadata": {},
   "source": [
    "## Modification 1\n",
    "\n",
    "oracle_samples is a tensor of 10,000 sequences each 20 integers long\n",
    "where each integer represents a token in a vocabulary size of 5000\n",
    "\n",
    "1. replace oracle_samples with mozart_text with size (10000,20) in 10,000 sequences of 20 integers long, each an intger\n",
    "    - add function to helper file\n",
    "2. change the following hyperparameters:\n",
    "    - BATCH_SIZE\n",
    "    - MAX_SEQ_LEN\n"
   ]
  },
  {
   "cell_type": "markdown",
   "metadata": {},
   "source": [
    "# Load True Distribution Generator\n",
    "# Load True Distribution Data Sample"
   ]
  },
  {
   "cell_type": "code",
   "execution_count": 3,
   "metadata": {},
   "outputs": [],
   "source": [
    "mozart_data = \"./data/mozart.txt\"\n",
    "\n",
    "VOCAB_SIZE, word2int, int2word, encoded_data = helpers.load_music_file(mozart_data)\n",
    "\n",
    "# returns list of (567850,20)\n",
    "real_data_samples = helpers.batch_music_samples(encoded_data, MAX_SEQ_LEN)"
   ]
  },
  {
   "cell_type": "code",
   "execution_count": 4,
   "metadata": {},
   "outputs": [
    {
     "data": {
      "text/plain": [
       "(44363, 256)"
      ]
     },
     "execution_count": 4,
     "metadata": {},
     "output_type": "execute_result"
    }
   ],
   "source": [
    "len(real_data_samples), len(real_data_samples[0])"
   ]
  },
  {
   "cell_type": "code",
   "execution_count": 5,
   "metadata": {},
   "outputs": [],
   "source": [
    "# returns tensor of (40000, 256) and (4000, 256)\n",
    "real_train, real_val = helpers.train_val_split(real_data_samples, POS_NEG_SAMPLES)"
   ]
  },
  {
   "cell_type": "markdown",
   "metadata": {},
   "source": [
    "## Modification 1 complete\n",
    "\n",
    "At this point:\n",
    "1. the mozart data has been ingested\n",
    "2. it has been prepared for train (500000, 20) and val (67850, 20)\n",
    "3. hyperparameters have been modified to accept a larger dataset and smaller vocab size\n",
    "\n",
    "\n",
    "May have to change the starting letter?\n",
    "\n",
    "Why do I need to know oracle loss? To compare the difference between the oracle and the generator?\n",
    "\n",
    "How fast does it train on the GPU?"
   ]
  },
  {
   "cell_type": "markdown",
   "metadata": {},
   "source": [
    "# Build Fake Generator\n",
    "# Build Discriminator"
   ]
  },
  {
   "cell_type": "code",
   "execution_count": 6,
   "metadata": {},
   "outputs": [],
   "source": [
    "gen = generator.Generator(GEN_EMBEDDING_DIM, GEN_HIDDEN_DIM, VOCAB_SIZE, MAX_SEQ_LEN, gpu=CUDA)\n",
    "dis = discriminator.Discriminator(DIS_EMBEDDING_DIM, DIS_HIDDEN_DIM, VOCAB_SIZE, MAX_SEQ_LEN, gpu=CUDA)"
   ]
  },
  {
   "cell_type": "markdown",
   "metadata": {},
   "source": [
    "# Cast tensors to GPU is available"
   ]
  },
  {
   "cell_type": "code",
   "execution_count": 7,
   "metadata": {},
   "outputs": [],
   "source": [
    "if CUDA:\n",
    "    gen = gen.cuda()\n",
    "    dis = dis.cuda()\n",
    "    real_train = real_train.cuda()\n",
    "    real_val = real_val.cuda()"
   ]
  },
  {
   "cell_type": "markdown",
   "metadata": {},
   "source": [
    "## Modification 2\n",
    "\n",
    "1. Remove the calculation of Oracle Loss\n",
    "    - Altnernatively, change how the oracle samples or generates data for batch NLLLoss calculation\n"
   ]
  },
  {
   "cell_type": "markdown",
   "metadata": {},
   "source": [
    "# Step 1: Train Generator MLE"
   ]
  },
  {
   "cell_type": "code",
   "execution_count": null,
   "metadata": {},
   "outputs": [],
   "source": [
    "def train_generator_MLE(gen, gen_opt, real_data_samples, epochs):\n",
    "    \"\"\"\n",
    "    Max Likelihood Pretraining for the generator\n",
    "    \"\"\"\n",
    "    for epoch in range(epochs):\n",
    "        \n",
    "        # just an log for Generator MLE training\n",
    "        \n",
    "        print('epoch %d : ' % (epoch + 1), end='')\n",
    "        sys.stdout.flush()\n",
    "        total_loss = 0\n",
    "        \n",
    "        # real_data_samples is oracles_samples\n",
    "        # POS_NEG_SAMPLES = sample size = 10,000\n",
    "        # BATCH_SIZE = 32\n",
    "        # so i will be [0, 32, 64, 96, 128, ...]\n",
    "\n",
    "        for i in range(0, POS_NEG_SAMPLES, BATCH_SIZE):\n",
    "            \n",
    "            \"\"\"\n",
    "            each input and target is size (32, 20) = (BATCH_SIZE, MAX_SEQ_LEN)\n",
    "            \n",
    "            \n",
    "            FOR EXAMPLE:\n",
    "            \n",
    "            -INPUT-\n",
    "            \n",
    "            start_letter = 0\n",
    "            \n",
    "            samples = [11, 12, 13, 14, 15, 16, 17, 18, 19, 20, 21, 22]\n",
    "            \n",
    "            \n",
    "            -OUTPUTS-\n",
    "            \n",
    "            input = [[0, 11, 12, 13],\n",
    "                     [0, 15, 16, 17],\n",
    "                     [0, 19, 20, 21]]\n",
    "            \n",
    "            target = [[11, 12, 13, 14],\n",
    "                      [15, 16, 17, 18],\n",
    "                      [19, 20, 21, 22]]\n",
    "                      \n",
    "            REAL EXAMPLE:\n",
    "            \n",
    "            start_letter: 0\n",
    "            input: tensor([   0, 4766,  468, 2145,  938, 2625,   23, 1038, 2449, 2065, 3364,  429,\n",
    "                           2323,  784, 2985, 2985,  203, 2912, 2707, 1370])\n",
    "            target: tensor([4766,  468, 2145,  938, 2625,   23, 1038, 2449, 2065, 3364,  429, 2323,\n",
    "                            784, 2985, 2985,  203, 2912, 2707, 1370, 2515])\n",
    "            \n",
    "            \"\"\"\n",
    "            \n",
    "            inp, target = helpers.prepare_generator_batch(real_data_samples[i:i + BATCH_SIZE], start_letter=START_LETTER,\n",
    "                                                          gpu=CUDA)\n",
    "\n",
    "            \"\"\"\n",
    "            in order:\n",
    "            \n",
    "            1. set gradients to be zero\n",
    "            2. compute training loss\n",
    "            3. backpropagate gradient\n",
    "            4. update weights of nn\n",
    "            \"\"\"\n",
    "            \n",
    "            gen_opt.zero_grad()\n",
    "            loss = gen.batchNLLLoss(inp, target)\n",
    "            loss.backward()\n",
    "            gen_opt.step()\n",
    "\n",
    "            total_loss += loss.data.item()\n",
    "\n",
    "            if (i / BATCH_SIZE) % ceil(\n",
    "                            ceil(POS_NEG_SAMPLES / float(BATCH_SIZE)) / 10.) == 0:  # roughly every 10% of an epoch\n",
    "                print('.', end='')\n",
    "                sys.stdout.flush()\n",
    "\n",
    "        # each loss in a batch is loss per sample\n",
    "        total_loss = total_loss / ceil(POS_NEG_SAMPLES / float(BATCH_SIZE)) / MAX_SEQ_LEN\n",
    "\n",
    "        print(' average_train_NLL = %.4f' % (total_loss))"
   ]
  },
  {
   "cell_type": "markdown",
   "metadata": {},
   "source": [
    "## Modification 3\n",
    "1. Change how positive validation (real data) is sampled\n",
    "    - create a function to choose from the positive validation\n",
    "    \n",
    "2. Understand how def batchwise_oracle_nll works "
   ]
  },
  {
   "cell_type": "code",
   "execution_count": null,
   "metadata": {},
   "outputs": [
    {
     "name": "stdout",
     "output_type": "stream",
     "text": [
      "Starting Generator MLE Training...\n",
      "epoch 1 : .......... average_train_NLL = 2.6763\n",
      "epoch 2 : .......... average_train_NLL = 2.0054\n",
      "epoch 3 : .......... average_train_NLL = 1.8825\n",
      "epoch 4 : ............ average_train_NLL = 1.7649\n",
      "epoch 8 : .......... average_train_NLL = 1.7525\n",
      "epoch 9 : .......... average_train_NLL = 1.7435\n",
      "epoch 10 : .......... average_train_NLL = 1.7351\n",
      "epoch 11 : .......... average_train_NLL = 1.7281\n",
      "epoch 12 : .......... average_train_NLL = 1.7226\n",
      "epoch 13 : .......... average_train_NLL = 1.7171\n",
      "epoch 14 : .......... average_train_NLL = 1.7122\n",
      "epoch 15 : .......... average_train_NLL = 1.7071\n",
      "epoch 16 : .......... average_train_NLL = 1.7025\n",
      "epoch 17 : .......... average_train_NLL = 1.6985\n",
      "epoch 18 : .......... average_train_NLL = 1.6947\n",
      "epoch 19 : .......... average_train_NLL = 1.6913\n",
      "epoch 20 : .......... average_train_NLL = 1.6895\n",
      "epoch 21 : .......... average_train_NLL = 1.6869\n",
      "epoch 22 : .......... average_train_NLL = 1.6834\n",
      "epoch 23 : .......... average_train_NLL = 1.6813\n",
      "epoch 24 : .......... average_train_NLL = 1.6785\n",
      "epoch 25 : .......... average_train_NLL = 1.6765\n",
      "epoch 26 : .......... average_train_NLL = 1.6757\n",
      "epoch 27 : .......... average_train_NLL = 1.6731\n",
      "epoch 28 : .......... average_train_NLL = 1.6724\n",
      "epoch 29 : .......... average_train_NLL = 1.6714\n",
      "epoch 30 : .......... average_train_NLL = 1.6694\n",
      "epoch 31 : .......... average_train_NLL = 1.6699\n",
      "epoch 32 : .......... average_train_NLL = 1.6676\n",
      "epoch 33 : .......... average_train_NLL = 1.6738\n",
      "epoch 34 : .......... average_train_NLL = 1.6642\n",
      "epoch 35 : .......... average_train_NLL = 1.6658\n",
      "epoch 36 : .......... average_train_NLL = 1.6619\n",
      "epoch 37 : .......... average_train_NLL = 1.6965\n",
      "epoch 38 : .......... average_train_NLL = 1.6926\n",
      "epoch 39 : .......... average_train_NLL = 1.6763\n",
      "epoch 40 : .......... average_train_NLL = 1.6694\n",
      "epoch 41 : .......... average_train_NLL = 1.6703\n",
      "epoch 42 : .......... average_train_NLL = 1.6652\n",
      "epoch 43 : .......... average_train_NLL = 1.6637\n",
      "epoch 44 : .......... average_train_NLL = 1.6668\n",
      "epoch 45 : .......... average_train_NLL = 1.6618\n",
      "epoch 46 : .......... average_train_NLL = 1.6590\n",
      "epoch 47 : .......... average_train_NLL = 1.6587\n",
      "epoch 48 : .......... average_train_NLL = 1.6565\n",
      "epoch 49 : .......... average_train_NLL = 1.6557\n",
      "epoch 50 : .......... average_train_NLL = 1.6552\n"
     ]
    }
   ],
   "source": [
    "# GENERATOR MLE TRAINING\n",
    "print('Starting Generator MLE Training...')\n",
    "gen_optimizer = optim.Adam(gen.parameters(), lr=1e-2)\n",
    "train_generator_MLE(gen, gen_optimizer, real_train, MLE_TRAIN_EPOCHS)"
   ]
  },
  {
   "cell_type": "markdown",
   "metadata": {},
   "source": [
    "# Step 2: Train Discriminator"
   ]
  },
  {
   "cell_type": "code",
   "execution_count": null,
   "metadata": {},
   "outputs": [],
   "source": [
    "def train_discriminator(discriminator, dis_opt, real_data_samples, generator, real_val, d_steps, epochs):\n",
    "    \"\"\"\n",
    "    Training the discriminator on real_data_samples (positive) and generated samples from generator (negative).\n",
    "    Samples are drawn d_steps times, and the discriminator is trained for epochs epochs.\n",
    "    \"\"\"\n",
    "    \n",
    "    \"\"\"\n",
    "    PREPARE VALIDATION SET BEFORE TRAINING\n",
    "    \n",
    "    pos_val: tensor of (100, 20) = (BATCH_SIZE, SEQ_LEN) \n",
    "    data sample generated by the TRUE distribution\n",
    "    \n",
    "    neg_val: tensor of (100, 20) = (BATCH_SIZE, SEQ_LEN) \n",
    "    data sample generated by the FAKE distribution\n",
    "    \n",
    "    val_input: tensor of (200, 20)\n",
    "    data sample of pos_val and neg_val joined\n",
    "    \n",
    "    val_target: tensor of (200)\n",
    "    binary label for val_input indicating which is TRUE and which is FAKE\n",
    "    \n",
    "    EXAMPLE:\n",
    "    \n",
    "    pos_val: tensor([3919, 3055,  295,  221, 3468,  973, ...])\n",
    "    neg_val: tensor([4542, 2385, 2421, 4289,  135, 4437, ...])\n",
    "    val_inp: tensor([3784, 4782, 2792, 4431, 3654, 2415, ...])\n",
    "    val_target: tensor([0., 1., 1., 0., 1., 0., 1., 0., 0., 0., ...])\n",
    "    \n",
    "    \"\"\"\n",
    "\n",
    "    # generating a small validation set before training (using oracle and generator)\n",
    "#     pos_val = oracle.sample(100)\n",
    "    pos_val = helpers.positive_sample(real_val, 100)\n",
    "    neg_val = generator.sample(100, MAX_SEQ_LEN)\n",
    "    val_inp, val_target = helpers.prepare_discriminator_data(pos_val, neg_val, gpu=CUDA)\n",
    "\n",
    "    for d_step in range(d_steps):\n",
    "        \n",
    "        \"\"\"\n",
    "        generate 10,000 FAKE data samples of length 20 sequences\n",
    "        s: tensor of (10000, 20)\n",
    "        \n",
    "        concatenate with TRUE data samples from oracle\n",
    "        real_data_samples: tensor of (10000, 20)\n",
    "        \n",
    "        then shuffle with the binary labels to get:\n",
    "        dis_inp: tensor of (20000, 20)\n",
    "        dis_target: tensor of (20000) containing 1 or 0 for TRUE of FAKE data\n",
    "        \n",
    "        \"\"\"\n",
    "        \n",
    "        s = helpers.batchwise_sample(generator, POS_NEG_SAMPLES, BATCH_SIZE, MAX_SEQ_LEN)\n",
    "        \n",
    "        dis_inp, dis_target = helpers.prepare_discriminator_data(real_data_samples, s, gpu=CUDA)\n",
    "        \n",
    "        for epoch in range(epochs):\n",
    "            print('d-step %d epoch %d : ' % (d_step + 1, epoch + 1), end='')\n",
    "            sys.stdout.flush()\n",
    "            total_loss = 0\n",
    "            total_acc = 0\n",
    "            \n",
    "            # loop through all 20,0000 data samples\n",
    "\n",
    "            for i in range(0, 2 * POS_NEG_SAMPLES, BATCH_SIZE):\n",
    "                \n",
    "                # subset input based on batch size\n",
    "                inp, target = dis_inp[i:i + BATCH_SIZE], dis_target[i:i + BATCH_SIZE]\n",
    "                \n",
    "                # zero all gradients\n",
    "                dis_opt.zero_grad()\n",
    "                \n",
    "                # get binary output from discriminator based on input\n",
    "                out = discriminator.batchClassify(inp)\n",
    "                \n",
    "                # re-initialize loss function\n",
    "                loss_fn = nn.BCELoss()\n",
    "                \n",
    "                # calculate loss based on output and target\n",
    "                loss = loss_fn(out, target)\n",
    "                \n",
    "                # backpropagate\n",
    "                loss.backward()\n",
    "                \n",
    "                # update weights\n",
    "                dis_opt.step()\n",
    "\n",
    "                total_loss += loss.data.item()\n",
    "                total_acc += torch.sum((out>0.5)==(target>0.5)).data.item()\n",
    "\n",
    "                if (i / BATCH_SIZE) % ceil(ceil(2 * POS_NEG_SAMPLES / float(\n",
    "                        BATCH_SIZE)) / 10.) == 0:  # roughly every 10% of an epoch\n",
    "                    print('.', end='')\n",
    "                    sys.stdout.flush()\n",
    "\n",
    "            total_loss /= ceil(2 * POS_NEG_SAMPLES / float(BATCH_SIZE))\n",
    "            total_acc /= float(2 * POS_NEG_SAMPLES)\n",
    "\n",
    "            val_pred = discriminator.batchClassify(val_inp)\n",
    "            print(' average_loss = %.4f, train_acc = %.4f, val_acc = %.4f' % (\n",
    "                total_loss, total_acc, torch.sum((val_pred>0.5)==(val_target>0.5)).data.item()/200.))"
   ]
  },
  {
   "cell_type": "code",
   "execution_count": null,
   "metadata": {},
   "outputs": [
    {
     "name": "stdout",
     "output_type": "stream",
     "text": [
      "\n",
      "Starting Discriminator Training...\n",
      "d-step 1 epoch 1 : .......... average_loss = 0.5715, train_acc = 0.6957, val_acc = 0.7600\n",
      "d-step 1 epoch 2 : .......... average_loss = 0.3679, train_acc = 0.8379, val_acc = 0.9200\n",
      "d-step 1 epoch 3 : .......... average_loss = 0.1937, train_acc = 0.9236, val_acc = 0.9600\n",
      "d-step 2 epoch 1 : .......... average_loss = 0.1220, train_acc = 0.9536, val_acc = 0.9700\n",
      "d-step 2 epoch 2 : .......... average_loss = 0.0781, train_acc = 0.9713, val_acc = 0.9750\n",
      "d-step 2 epoch 3 : .......... average_loss = 0.0569, train_acc = 0.9796, val_acc = 0.9850\n",
      "d-step 3 epoch 1 : .......... average_loss = 0.0503, train_acc = 0.9817, val_acc = 0.9800\n",
      "d-step 3 epoch 2 : .......... average_loss = 0.0389, train_acc = 0.9862, val_acc = 0.9900\n",
      "d-step 3 epoch 3 : .......... average_loss = 0.0317, train_acc = 0.9889, val_acc = 0.9850\n"
     ]
    }
   ],
   "source": [
    "# PRETRAIN DISCRIMINATOR\n",
    "print('\\nStarting Discriminator Training...')\n",
    "dis_optimizer = optim.Adagrad(dis.parameters())\n",
    "train_discriminator(dis, dis_optimizer, real_train, gen, real_val, DIS_D_STEPS, DIS_EPOCH)"
   ]
  },
  {
   "cell_type": "code",
   "execution_count": null,
   "metadata": {},
   "outputs": [],
   "source": [
    "def train_generator_PG(gen, gen_opt, dis, num_batches):\n",
    "    \"\"\"\n",
    "    The generator is trained using policy gradients, using the reward from the discriminator.\n",
    "    Training is done for num_batches batches.\n",
    "    \"\"\"\n",
    "\n",
    "    for batch in range(num_batches):\n",
    "        \n",
    "        \"\"\"\n",
    "        1. get generator to generate samples = s (a batch of 64 sequences of length 20)\n",
    "        2. prepare input (pre-pended target) and target based on generated samples(same as train_generator_MLE)\n",
    "        3. get discriminator to return a sigmoid value between 0 and 1 on whether generated samples are REAL or FAKE\n",
    "        4. reward is a tensor of size (64) containing the DIS sigmoid value of every sequence in the batch\n",
    "        5. the sigmoid values in reward is used as a multiplier in the loss function\n",
    "            a. if value is near 0 (DIS classified as FAKE) then loss is small (not so negative)\n",
    "            b. if value is near 1 (DIS classified as REAL) then loss is large (very negative)\n",
    "        \"\"\"\n",
    "        \n",
    "        s = gen.sample(BATCH_SIZE*2, MAX_SEQ_LEN)        # 64 works best\n",
    "        inp, target = helpers.prepare_generator_batch(s, start_letter=START_LETTER, gpu=CUDA)\n",
    "        rewards = dis.batchClassify(target)\n",
    "        \n",
    "        gen_opt.zero_grad()\n",
    "        pg_loss = gen.batchPGLoss(inp, target, rewards)\n",
    "        pg_loss.backward()\n",
    "        gen_opt.step()\n",
    "\n",
    "    # sample from generator and compute oracle NLL\n",
    "#     oracle_loss = helpers.batchwise_oracle_nll(gen, oracle, POS_NEG_SAMPLES, BATCH_SIZE, MAX_SEQ_LEN,\n",
    "#                                                    start_letter=START_LETTER, gpu=CUDA)\n",
    "\n",
    "#     print(' oracle_sample_NLL = %.4f' % oracle_loss)"
   ]
  },
  {
   "cell_type": "code",
   "execution_count": null,
   "metadata": {},
   "outputs": [
    {
     "name": "stdout",
     "output_type": "stream",
     "text": [
      "\n",
      "Starting Adversarial Training...\n",
      "\n",
      "--------\n",
      "EPOCH 1\n",
      "--------\n",
      "\n",
      "Adversarial Training Generator: \n",
      "Adversarial Training Discriminator : \n",
      "d-step 1 epoch 1 : .......... average_loss = 0.0270, train_acc = 0.9908, val_acc = 0.9950\n",
      "d-step 1 epoch 2 : .......... average_loss = 0.0216, train_acc = 0.9926, val_acc = 0.9900\n",
      "d-step 1 epoch 3 : .......... average_loss = 0.0185, train_acc = 0.9939, val_acc = 0.9850\n",
      "d-step 2 epoch 1 : .......... average_loss = 0.0191, train_acc = 0.9933, val_acc = 0.9950\n",
      "d-step 2 epoch 2 : .......... average_loss = 0.0151, train_acc = 0.9950, val_acc = 0.9900\n",
      "d-step 2 epoch 3 : .......... average_loss = 0.0124, train_acc = 0.9960, val_acc = 0.9950\n",
      "d-step 3 epoch 1 : ............d-step 3 epoch 1 : ........ average_loss = 0.0045, train_acc = 0.9987, val_acc = 0.9850\n",
      "d-step 1 epoch 3 : .......... average_loss = 0.0035, train_acc = 0.9989, val_acc = 1.0000\n",
      "d-step 2 epoch 1 : .......... average_loss = 0.0052, train_acc = 0.9984, val_acc = 0.9850\n",
      "d-step 2 epoch 2 : .......... average_loss = 0.0038, train_acc = 0.9990, val_acc = 0.9850\n",
      "d-step 2 epoch 3 : .......... average_loss = 0.0034, train_acc = 0.9990, val_acc = 0.9900\n",
      "d-step 3 epoch 1 : .......... average_loss = 0.0047, train_acc = 0.9985, val_acc = 0.9950\n",
      "d-step 3 epoch 2 : .......... average_loss = 0.0036, train_acc = 0.9987, val_acc = 0.9850\n",
      "d-step 3 epoch 3 : .......... average_loss = 0.0031, train_acc = 0.9990, val_acc = 0.9850\n",
      "\n",
      "--------\n",
      "EPOCH 4\n",
      "--------\n",
      "\n",
      "Adversarial Training Generator: \n",
      "Adversarial Training Discriminator : \n",
      "d-step 1 epoch 1 : .......... average_loss = 0.0032, train_acc = 0.9990, val_acc = 0.9950\n",
      "d-step 1 epoch 2 : ................. average_loss = 0.0016, train_acc = 0.9995, val_acc = 1.0000\n",
      "d-step 3 epoch 3 : .......... average_loss = 0.0013, train_acc = 0.9996, val_acc = 1.0000\n",
      "\n",
      "--------\n",
      "EPOCH 5\n",
      "--------\n",
      "\n",
      "Adversarial Training Generator: \n",
      "Adversarial Training Discriminator : \n",
      "d-step 1 epoch 1 : ........"
     ]
    },
    {
     "ename": "KeyboardInterrupt",
     "evalue": "",
     "output_type": "error",
     "traceback": [
      "\u001b[0;31m---------------------------------------------------------------------------\u001b[0m",
      "\u001b[0;31mKeyboardInterrupt\u001b[0m                         Traceback (most recent call last)",
      "\u001b[0;32m<ipython-input-13-d7dc4d5e7235>\u001b[0m in \u001b[0;36m<module>\u001b[0;34m()\u001b[0m\n\u001b[1;32m     15\u001b[0m     \u001b[0;31m# TRAIN DISCRIMINATOR\u001b[0m\u001b[0;34m\u001b[0m\u001b[0;34m\u001b[0m\u001b[0m\n\u001b[1;32m     16\u001b[0m     \u001b[0mprint\u001b[0m\u001b[0;34m(\u001b[0m\u001b[0;34m'\\nAdversarial Training Discriminator : '\u001b[0m\u001b[0;34m)\u001b[0m\u001b[0;34m\u001b[0m\u001b[0m\n\u001b[0;32m---> 17\u001b[0;31m     \u001b[0mtrain_discriminator\u001b[0m\u001b[0;34m(\u001b[0m\u001b[0mdis\u001b[0m\u001b[0;34m,\u001b[0m \u001b[0mdis_optimizer\u001b[0m\u001b[0;34m,\u001b[0m \u001b[0mreal_train\u001b[0m\u001b[0;34m,\u001b[0m \u001b[0mgen\u001b[0m\u001b[0;34m,\u001b[0m \u001b[0mreal_val\u001b[0m\u001b[0;34m,\u001b[0m \u001b[0mADV_D_STEPS\u001b[0m\u001b[0;34m,\u001b[0m \u001b[0mDIS_EPOCH\u001b[0m\u001b[0;34m)\u001b[0m\u001b[0;34m\u001b[0m\u001b[0m\n\u001b[0m\u001b[1;32m     18\u001b[0m \u001b[0;34m\u001b[0m\u001b[0m\n\u001b[1;32m     19\u001b[0m     \u001b[0;31m# generate output samples\u001b[0m\u001b[0;34m\u001b[0m\u001b[0;34m\u001b[0m\u001b[0m\n",
      "\u001b[0;32m<ipython-input-10-bbffb8aa3829>\u001b[0m in \u001b[0;36mtrain_discriminator\u001b[0;34m(discriminator, dis_opt, real_data_samples, generator, real_val, d_steps, epochs)\u001b[0m\n\u001b[1;32m     80\u001b[0m \u001b[0;34m\u001b[0m\u001b[0m\n\u001b[1;32m     81\u001b[0m                 \u001b[0;31m# backpropagate\u001b[0m\u001b[0;34m\u001b[0m\u001b[0;34m\u001b[0m\u001b[0m\n\u001b[0;32m---> 82\u001b[0;31m                 \u001b[0mloss\u001b[0m\u001b[0;34m.\u001b[0m\u001b[0mbackward\u001b[0m\u001b[0;34m(\u001b[0m\u001b[0;34m)\u001b[0m\u001b[0;34m\u001b[0m\u001b[0m\n\u001b[0m\u001b[1;32m     83\u001b[0m \u001b[0;34m\u001b[0m\u001b[0m\n\u001b[1;32m     84\u001b[0m                 \u001b[0;31m# update weights\u001b[0m\u001b[0;34m\u001b[0m\u001b[0;34m\u001b[0m\u001b[0m\n",
      "\u001b[0;32m~/var/python/lib/python3.6/site-packages/torch/tensor.py\u001b[0m in \u001b[0;36mbackward\u001b[0;34m(self, gradient, retain_graph, create_graph)\u001b[0m\n\u001b[1;32m     91\u001b[0m                 \u001b[0mproducts\u001b[0m\u001b[0;34m.\u001b[0m \u001b[0mDefaults\u001b[0m \u001b[0mto\u001b[0m\u001b[0;31m \u001b[0m\u001b[0;31m`\u001b[0m\u001b[0;31m`\u001b[0m\u001b[0;32mFalse\u001b[0m\u001b[0;31m`\u001b[0m\u001b[0;31m`\u001b[0m\u001b[0;34m.\u001b[0m\u001b[0;34m\u001b[0m\u001b[0m\n\u001b[1;32m     92\u001b[0m         \"\"\"\n\u001b[0;32m---> 93\u001b[0;31m         \u001b[0mtorch\u001b[0m\u001b[0;34m.\u001b[0m\u001b[0mautograd\u001b[0m\u001b[0;34m.\u001b[0m\u001b[0mbackward\u001b[0m\u001b[0;34m(\u001b[0m\u001b[0mself\u001b[0m\u001b[0;34m,\u001b[0m \u001b[0mgradient\u001b[0m\u001b[0;34m,\u001b[0m \u001b[0mretain_graph\u001b[0m\u001b[0;34m,\u001b[0m \u001b[0mcreate_graph\u001b[0m\u001b[0;34m)\u001b[0m\u001b[0;34m\u001b[0m\u001b[0m\n\u001b[0m\u001b[1;32m     94\u001b[0m \u001b[0;34m\u001b[0m\u001b[0m\n\u001b[1;32m     95\u001b[0m     \u001b[0;32mdef\u001b[0m \u001b[0mregister_hook\u001b[0m\u001b[0;34m(\u001b[0m\u001b[0mself\u001b[0m\u001b[0;34m,\u001b[0m \u001b[0mhook\u001b[0m\u001b[0;34m)\u001b[0m\u001b[0;34m:\u001b[0m\u001b[0;34m\u001b[0m\u001b[0m\n",
      "\u001b[0;32m~/var/python/lib/python3.6/site-packages/torch/autograd/__init__.py\u001b[0m in \u001b[0;36mbackward\u001b[0;34m(tensors, grad_tensors, retain_graph, create_graph, grad_variables)\u001b[0m\n\u001b[1;32m     88\u001b[0m     Variable._execution_engine.run_backward(\n\u001b[1;32m     89\u001b[0m         \u001b[0mtensors\u001b[0m\u001b[0;34m,\u001b[0m \u001b[0mgrad_tensors\u001b[0m\u001b[0;34m,\u001b[0m \u001b[0mretain_graph\u001b[0m\u001b[0;34m,\u001b[0m \u001b[0mcreate_graph\u001b[0m\u001b[0;34m,\u001b[0m\u001b[0;34m\u001b[0m\u001b[0m\n\u001b[0;32m---> 90\u001b[0;31m         allow_unreachable=True)  # allow_unreachable flag\n\u001b[0m\u001b[1;32m     91\u001b[0m \u001b[0;34m\u001b[0m\u001b[0m\n\u001b[1;32m     92\u001b[0m \u001b[0;34m\u001b[0m\u001b[0m\n",
      "\u001b[0;31mKeyboardInterrupt\u001b[0m: "
     ]
    }
   ],
   "source": [
    "# ADVERSARIAL TRAINING\n",
    "print('\\nStarting Adversarial Training...')\n",
    "# oracle_loss = helpers.batchwise_oracle_nll(gen, oracle, POS_NEG_SAMPLES, BATCH_SIZE, MAX_SEQ_LEN,\n",
    "#                                            start_letter=START_LETTER, gpu=CUDA)\n",
    "# print('\\nInitial Oracle Sample Loss : %.4f' % oracle_loss)\n",
    "\n",
    "\n",
    "for epoch in range(ADV_TRAIN_EPOCHS):\n",
    "    print('\\n--------\\nEPOCH %d\\n--------' % (epoch+1))\n",
    "    # TRAIN GENERATOR\n",
    "    print('\\nAdversarial Training Generator: ', end='')\n",
    "    sys.stdout.flush()\n",
    "    train_generator_PG(gen, gen_optimizer, dis, 1)\n",
    "\n",
    "    # TRAIN DISCRIMINATOR\n",
    "    print('\\nAdversarial Training Discriminator : ')\n",
    "    train_discriminator(dis, dis_optimizer, real_train, gen, real_val, ADV_D_STEPS, DIS_EPOCH)\n",
    "    \n",
    "    # generate output samples\n",
    "    samples128 = gen.sample(N_SAMPLES, 256)\n",
    "    samples512 = gen.sample(N_SAMPLES, 512)\n",
    "    \n",
    "    for i in range(N_SAMPLES):\n",
    "        sample128 = ' '.join([int2word[x] for x in list(np.array(samples128[i]))])\n",
    "        sample512 = ' '.join([int2word[x] for x in list(np.array(samples512[i]))])\n",
    "        with open(\"./data/output/result_epoch\" + str(epoch) + \"_256\" + \"_sample\" + str(i) + \".txt\", \"w\") as outfile:\n",
    "                outfile.write(sample128)\n",
    "        with open(\"./data/output/result_epoch\" + str(epoch) + \"_512\" + \"_sample\" + str(i) + \".txt\", \"w\") as outfile:\n",
    "                outfile.write(sample512)\n",
    "                \n",
    "        "
   ]
  },
  {
   "cell_type": "code",
   "execution_count": null,
   "metadata": {},
   "outputs": [],
   "source": [
    "torch.save(gen, './models/gen_adv_epoch' + str(epoch))\n",
    "torch.save(dis, './models/dis_adv_epoch' + str(epoch))"
   ]
  },
  {
   "cell_type": "code",
   "execution_count": null,
   "metadata": {},
   "outputs": [],
   "source": []
  },
  {
   "cell_type": "code",
   "execution_count": null,
   "metadata": {},
   "outputs": [],
   "source": []
  }
 ],
 "metadata": {
  "kernelspec": {
   "display_name": "Python 3",
   "language": "python",
   "name": "python3"
  },
  "language_info": {
   "codemirror_mode": {
    "name": "ipython",
    "version": 3
   },
   "file_extension": ".py",
   "mimetype": "text/x-python",
   "name": "python",
   "nbconvert_exporter": "python",
   "pygments_lexer": "ipython3",
   "version": "3.6.3"
  }
 },
 "nbformat": 4,
 "nbformat_minor": 2
}
